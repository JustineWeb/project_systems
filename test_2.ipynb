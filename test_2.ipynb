{
 "cells": [
  {
   "cell_type": "code",
   "execution_count": 1,
   "metadata": {},
   "outputs": [],
   "source": [
    "import pyspark\n",
    "import sys\n",
    "from pyspark.sql import SparkSession\n",
    "from pyspark.context import SparkContext , SparkConf\n",
    "import random\n",
    "import time"
   ]
  },
  {
   "cell_type": "code",
   "execution_count": 2,
   "metadata": {},
   "outputs": [
    {
     "data": {
      "text/plain": [
       "<pyspark.conf.SparkConf at 0x1ecdad2dda0>"
      ]
     },
     "execution_count": 2,
     "metadata": {},
     "output_type": "execute_result"
    }
   ],
   "source": [
    "conf = SparkConf().setAppName(\"PySpark App\")\n",
    "conf.set(\"spark.executor.heartbeatInterval\",\"1000s\")\n",
    "conf.set(\"spark.network.timeout\",\"2000\")"
   ]
  },
  {
   "cell_type": "code",
   "execution_count": 3,
   "metadata": {},
   "outputs": [],
   "source": [
    "data_train = \"lyrl2004_vectors_train.dat\"\n",
    "topic_files = \"rcv1-v2.topics.qrels\"\n",
    "data_test_0 = \"lyrl2004_vectors_test_pt0.dat\"\n",
    "data_test_1 = \"lyrl2004_vectors_test_pt1.dat\""
   ]
  },
  {
   "cell_type": "code",
   "execution_count": 4,
   "metadata": {},
   "outputs": [],
   "source": [
    "sc = SparkContext('local[8]',conf = conf)"
   ]
  },
  {
   "cell_type": "code",
   "execution_count": 5,
   "metadata": {},
   "outputs": [],
   "source": [
    "def generate_dictionary(datapoint):\n",
    "    ''' \n",
    "    Parses and generates a dictionary from one sparse datapoint. \n",
    "    From Hogwild python implementation\n",
    "    '''\n",
    "    d = {0: 1.0} # Adding the bias\n",
    "    for elem in datapoint:\n",
    "        elem = elem.split(':')\n",
    "        d[int(elem[0])] = float(elem[1])\n",
    "    return d"
   ]
  },
  {
   "cell_type": "code",
   "execution_count": 6,
   "metadata": {},
   "outputs": [],
   "source": [
    "def load_data_spark(sc,data_ = data_train, topics_path=topic_files, selected_cat='CCAT'):\n",
    "    '''\n",
    "    Function to load the data (we are not using spark here but we could later on during the project)\n",
    "    sc : spark context\n",
    "    '''\n",
    "    rdd = sc.textFile(data_).map(lambda line: line.strip(\"\")).map(lambda line: line.split(' '))\n",
    "    labels = rdd.map(lambda line: int(line[0]))\n",
    "    data = rdd.map(lambda line: generate_dictionary(line[2:]))\n",
    "    labels = labels.collect()\n",
    "\n",
    "    cat = get_category_dict(topics_path)\n",
    "    labels = [1 if selected_cat in cat[label] else -1 for label in labels]\n",
    "\n",
    "    return data, labels"
   ]
  },
  {
   "cell_type": "code",
   "execution_count": null,
   "metadata": {},
   "outputs": [],
   "source": [
    "'''\n",
    "data_train = data_train.collect()\n",
    "data_test_0 = data_test_0.collect()\n",
    "data_test_1 = data_test_1.collect()\n",
    "'''"
   ]
  },
  {
   "cell_type": "code",
   "execution_count": 7,
   "metadata": {},
   "outputs": [],
   "source": [
    "def load_data(data_ = data_train, topics_path=topic_files, selected_cat='CCAT'):\n",
    "    '''\n",
    "    Function to load the data (we are not using spark here but we could later on during the project)\n",
    "    sc : spark context\n",
    "    '''\n",
    "    with open(data_) as f:\n",
    "        content = f.readlines()\n",
    "        content = [line.strip() for line in content]\n",
    "        content = [line.split(' ') for line in content]\n",
    "        labels = [int(line[0]) for line in content]\n",
    "        data = [generate_dictionary(line[2:]) for line in content]\n",
    "\n",
    "    cat = get_category_dict(topics_path)\n",
    "    labels = [1 if selected_cat in cat[label] else -1 for label in labels]\n",
    "\n",
    "    return data, labels"
   ]
  },
  {
   "cell_type": "code",
   "execution_count": 8,
   "metadata": {},
   "outputs": [],
   "source": [
    "def get_category_dict(topics_path):\n",
    "    ''' Generates the category dictionary using the topics file from:\n",
    "    http://www.ai.mit.edu/projects/jmlr/papers/volume5/lewis04a/lyrl2004_rcv1v2_README.htm\n",
    "    From Hogwild python implementation\n",
    "    '''\n",
    "    categories = {}\n",
    "    with open(topics_path) as f:\n",
    "        content = f.readlines()\n",
    "        content = [line.strip() for line in content]\n",
    "        content = [line.split(' ') for line in content]\n",
    "        for line in content:\n",
    "            id = int(line[1])\n",
    "            cat = line[0]\n",
    "            if id not in categories:\n",
    "                categories[id] = [cat]\n",
    "            else:\n",
    "                categories[id].append(cat)\n",
    "    return categories"
   ]
  },
  {
   "cell_type": "code",
   "execution_count": 9,
   "metadata": {},
   "outputs": [],
   "source": [
    "data_train, labels_train = load_data()\n",
    "data_test_0, labels_test_0 = load_data(data_= data_test_0)\n",
    "data_test_1, labels_test_1 = load_data(data_= data_test_1)"
   ]
  },
  {
   "cell_type": "code",
   "execution_count": 10,
   "metadata": {},
   "outputs": [],
   "source": [
    "data_train += data_test_0\n",
    "labels_train += labels_test_0"
   ]
  },
  {
   "cell_type": "code",
   "execution_count": 11,
   "metadata": {},
   "outputs": [],
   "source": [
    "data_test = data_test_1\n",
    "labels_test = labels_test_1"
   ]
  },
  {
   "cell_type": "code",
   "execution_count": 35,
   "metadata": {},
   "outputs": [],
   "source": [
    "w = {}\n",
    "num_examples = 1\n",
    "n_workers = 5\n",
    "batch_per_worker = 1000\n",
    "batch_size = batch_per_worker * n_workers\n",
    "lambda_ = 0.03/batch_size\n",
    "reg = 0.00001\n",
    "n_iterations = 100"
   ]
  },
  {
   "cell_type": "code",
   "execution_count": 36,
   "metadata": {},
   "outputs": [],
   "source": [
    "def dotproduct(x, w):\n",
    "    ''' Calculates the dotproduct for sparse x and w. '''\n",
    "    return sum([v * w.get(k, 0) for k, v in x.items()])\n",
    "\n",
    "def sign(x):\n",
    "    ''' Sign function '''\n",
    "    return 1 if x > 0 else -1 if x < 0 else 0"
   ]
  },
  {
   "cell_type": "code",
   "execution_count": 37,
   "metadata": {},
   "outputs": [],
   "source": [
    "def accuracy(iterator):\n",
    "    score = 0\n",
    "    for x in iterator:\n",
    "        for elem in x:\n",
    "            if elem[0] == elem[1]:\n",
    "                score +=1\n",
    "    yield score"
   ]
  },
  {
   "cell_type": "code",
   "execution_count": 38,
   "metadata": {},
   "outputs": [],
   "source": [
    "def hinge_loss(y,x,w):\n",
    "    '''\n",
    "    Compute the value of the hinge loss\n",
    "    x: sparse_vector\n",
    "    y: label\n",
    "    w: weigths vector\n",
    "    '''\n",
    "    return max(1 - y * dotproduct(x,w),0)"
   ]
  },
  {
   "cell_type": "code",
   "execution_count": 39,
   "metadata": {},
   "outputs": [],
   "source": [
    "def calculate_primal_objective(y,x,w,lambda_,batchsize):\n",
    "    \"\"\"\t\n",
    "    compute the full cost (the primal objective), that is loss plus regularizer.\n",
    "    \"\"\"\n",
    "    v = hinge_loss(y, x, w)\n",
    "    return v/batchsize + lambda_ / 2 * sum([(weight**2)/batchsize for weight in w.values()])"
   ]
  },
  {
   "cell_type": "code",
   "execution_count": 40,
   "metadata": {},
   "outputs": [],
   "source": [
    "def calculate_stochastic_gradient(x_n,y_n, w, lambda_):\n",
    "    \"\"\"compute the stochastic gradient of loss plus regularizer.\n",
    "    w: shape = (num_features)\n",
    "    num_examples: N\n",
    "    \"\"\"\n",
    "    grad = {}\n",
    "    \n",
    "    def is_support(y_n, x_n, w):\n",
    "        \"\"\"a datapoint is support if max{} is not 0. \"\"\"\n",
    "        return y_n * dotproduct(x_n,w) < 1\n",
    "    \n",
    "    supp = is_support(y_n, x_n, w)\n",
    "    \n",
    "    for k,v in x_n.items():\n",
    "        if supp:\n",
    "            grad[k] = -v*y_n\n",
    "        else:\n",
    "            grad[k] = 0\n",
    "        \n",
    "    reguralizer = {}\n",
    "    for k in x_n.keys():\n",
    "        reguralizer[k] = w.get(k, 0)**2 * reg\n",
    "    \n",
    "    for k,v in grad.items():\n",
    "        grad[k] = lambda_* v + reguralizer[k]\n",
    "    \n",
    "    return grad"
   ]
  },
  {
   "cell_type": "code",
   "execution_count": 41,
   "metadata": {},
   "outputs": [],
   "source": [
    "def prediction(iterator,w):\n",
    "    pred = []\n",
    "    for x in iterator:\n",
    "        temp = (dotproduct(x[0],w) > 0) * 2 - 1\n",
    "        y = x[1]\n",
    "        pred.append((temp,y))\n",
    "    yield pred"
   ]
  },
  {
   "cell_type": "code",
   "execution_count": 42,
   "metadata": {},
   "outputs": [],
   "source": [
    "def train(iterator,w):\n",
    "    weights = {}\n",
    "    for x in iterator:\n",
    "        grad = calculate_stochastic_gradient(x[0],x[1],w,lambda_)\n",
    "        for k, v in grad.items():\n",
    "            weights[k] = v + weights.get(k, 0)\n",
    "    yield weights"
   ]
  },
  {
   "cell_type": "code",
   "execution_count": 43,
   "metadata": {},
   "outputs": [],
   "source": [
    "def batch_iter(x,y,batch_size):\n",
    "    y_batch = []\n",
    "    x_batch = []\n",
    "    indices = random.sample(range(len(x)),batch_size)\n",
    "    for indice in indices:\n",
    "        x_batch.append(x[indice])\n",
    "        y_batch.append(y[indice])\n",
    "    return x_batch, y_batch"
   ]
  },
  {
   "cell_type": "code",
   "execution_count": 44,
   "metadata": {},
   "outputs": [],
   "source": [
    "def compute_loss(iterator,w,lambda_,batchsize):\n",
    "    \"\"\"\n",
    "    compute the loss for a given iterator\n",
    "    \"\"\"\n",
    "    loss = 0\n",
    "    for x in iterator:\n",
    "        loss += calculate_primal_objective(x[1],x[0],w,lambda_,batchsize)\n",
    "    yield loss"
   ]
  },
  {
   "cell_type": "code",
   "execution_count": 45,
   "metadata": {
    "scrolled": true
   },
   "outputs": [
    {
     "name": "stdout",
     "output_type": "stream",
     "text": [
      "we are at the iteration : 0\n",
      "2.659883737564087\n",
      "compute loss\n",
      "the model as a loss of:\n",
      "0.9998894386245216\n",
      "compute train accuracy\n",
      "the model as achieved an accuracy of:\n",
      "0.714\n",
      "computing test accuracy\n",
      "the model as achieved an accuracy of:\n",
      "0.6548\n",
      "we are at the iteration : 1\n",
      "2.6409389972686768\n",
      "compute loss\n",
      "the model as a loss of:\n",
      "0.9997860067019285\n",
      "compute train accuracy\n",
      "the model as achieved an accuracy of:\n",
      "0.8214\n",
      "computing test accuracy\n",
      "the model as achieved an accuracy of:\n",
      "0.8056\n",
      "we are at the iteration : 2\n"
     ]
    },
    {
     "ename": "KeyboardInterrupt",
     "evalue": "",
     "output_type": "error",
     "traceback": [
      "\u001b[1;31m---------------------------------------------------------------------------\u001b[0m",
      "\u001b[1;31mKeyboardInterrupt\u001b[0m                         Traceback (most recent call last)",
      "\u001b[1;32m<ipython-input-45-a30f5ac72ec4>\u001b[0m in \u001b[0;36m<module>\u001b[1;34m\u001b[0m\n\u001b[0;32m     10\u001b[0m     \u001b[0msgd\u001b[0m \u001b[1;33m=\u001b[0m \u001b[0msc\u001b[0m\u001b[1;33m.\u001b[0m\u001b[0mparallelize\u001b[0m\u001b[1;33m(\u001b[0m\u001b[0mzip\u001b[0m\u001b[1;33m(\u001b[0m\u001b[0mx_batch\u001b[0m\u001b[1;33m,\u001b[0m\u001b[0my_batch\u001b[0m\u001b[1;33m)\u001b[0m\u001b[1;33m,\u001b[0m\u001b[0mnumSlices\u001b[0m\u001b[1;33m=\u001b[0m \u001b[0mn_workers\u001b[0m\u001b[1;33m)\u001b[0m\u001b[0;31m \u001b[0m\u001b[0;31m\\\u001b[0m\u001b[1;33m\u001b[0m\u001b[1;33m\u001b[0m\u001b[0m\n\u001b[0;32m     11\u001b[0m     \u001b[1;33m.\u001b[0m\u001b[0mmapPartitions\u001b[0m\u001b[1;33m(\u001b[0m\u001b[1;32mlambda\u001b[0m \u001b[0mit\u001b[0m\u001b[1;33m:\u001b[0m \u001b[0mtrain\u001b[0m\u001b[1;33m(\u001b[0m\u001b[0mit\u001b[0m\u001b[1;33m,\u001b[0m\u001b[0mw\u001b[0m\u001b[1;33m)\u001b[0m\u001b[1;33m)\u001b[0m\u001b[0;31m \u001b[0m\u001b[0;31m\\\u001b[0m\u001b[1;33m\u001b[0m\u001b[1;33m\u001b[0m\u001b[0m\n\u001b[1;32m---> 12\u001b[1;33m     \u001b[1;33m.\u001b[0m\u001b[0mreduce\u001b[0m\u001b[1;33m(\u001b[0m\u001b[1;32mlambda\u001b[0m \u001b[0mx\u001b[0m\u001b[1;33m,\u001b[0m\u001b[0my\u001b[0m\u001b[1;33m:\u001b[0m\u001b[1;33m{\u001b[0m\u001b[0mk\u001b[0m\u001b[1;33m:\u001b[0m \u001b[0mx\u001b[0m\u001b[1;33m.\u001b[0m\u001b[0mget\u001b[0m\u001b[1;33m(\u001b[0m\u001b[0mk\u001b[0m\u001b[1;33m,\u001b[0m \u001b[1;36m0\u001b[0m\u001b[1;33m)\u001b[0m \u001b[1;33m+\u001b[0m \u001b[0my\u001b[0m\u001b[1;33m.\u001b[0m\u001b[0mget\u001b[0m\u001b[1;33m(\u001b[0m\u001b[0mk\u001b[0m\u001b[1;33m,\u001b[0m \u001b[1;36m0\u001b[0m\u001b[1;33m)\u001b[0m \u001b[1;32mfor\u001b[0m \u001b[0mk\u001b[0m \u001b[1;32min\u001b[0m \u001b[0mset\u001b[0m\u001b[1;33m(\u001b[0m\u001b[0mx\u001b[0m\u001b[1;33m)\u001b[0m \u001b[1;33m|\u001b[0m \u001b[0mset\u001b[0m\u001b[1;33m(\u001b[0m\u001b[0my\u001b[0m\u001b[1;33m)\u001b[0m\u001b[1;33m}\u001b[0m\u001b[1;33m)\u001b[0m\u001b[1;33m\u001b[0m\u001b[1;33m\u001b[0m\u001b[0m\n\u001b[0m\u001b[0;32m     13\u001b[0m \u001b[1;33m\u001b[0m\u001b[0m\n\u001b[0;32m     14\u001b[0m     \u001b[1;32mfor\u001b[0m \u001b[0mk\u001b[0m\u001b[1;33m,\u001b[0m\u001b[0mv\u001b[0m \u001b[1;32min\u001b[0m \u001b[0msgd\u001b[0m\u001b[1;33m.\u001b[0m\u001b[0mitems\u001b[0m\u001b[1;33m(\u001b[0m\u001b[1;33m)\u001b[0m\u001b[1;33m:\u001b[0m\u001b[1;33m\u001b[0m\u001b[1;33m\u001b[0m\u001b[0m\n",
      "\u001b[1;32mD:\\prog_python_scala\\python\\lib\\site-packages\\pyspark\\rdd.py\u001b[0m in \u001b[0;36mreduce\u001b[1;34m(self, f)\u001b[0m\n\u001b[0;32m    842\u001b[0m             \u001b[1;32myield\u001b[0m \u001b[0mreduce\u001b[0m\u001b[1;33m(\u001b[0m\u001b[0mf\u001b[0m\u001b[1;33m,\u001b[0m \u001b[0miterator\u001b[0m\u001b[1;33m,\u001b[0m \u001b[0minitial\u001b[0m\u001b[1;33m)\u001b[0m\u001b[1;33m\u001b[0m\u001b[1;33m\u001b[0m\u001b[0m\n\u001b[0;32m    843\u001b[0m \u001b[1;33m\u001b[0m\u001b[0m\n\u001b[1;32m--> 844\u001b[1;33m         \u001b[0mvals\u001b[0m \u001b[1;33m=\u001b[0m \u001b[0mself\u001b[0m\u001b[1;33m.\u001b[0m\u001b[0mmapPartitions\u001b[0m\u001b[1;33m(\u001b[0m\u001b[0mfunc\u001b[0m\u001b[1;33m)\u001b[0m\u001b[1;33m.\u001b[0m\u001b[0mcollect\u001b[0m\u001b[1;33m(\u001b[0m\u001b[1;33m)\u001b[0m\u001b[1;33m\u001b[0m\u001b[1;33m\u001b[0m\u001b[0m\n\u001b[0m\u001b[0;32m    845\u001b[0m         \u001b[1;32mif\u001b[0m \u001b[0mvals\u001b[0m\u001b[1;33m:\u001b[0m\u001b[1;33m\u001b[0m\u001b[1;33m\u001b[0m\u001b[0m\n\u001b[0;32m    846\u001b[0m             \u001b[1;32mreturn\u001b[0m \u001b[0mreduce\u001b[0m\u001b[1;33m(\u001b[0m\u001b[0mf\u001b[0m\u001b[1;33m,\u001b[0m \u001b[0mvals\u001b[0m\u001b[1;33m)\u001b[0m\u001b[1;33m\u001b[0m\u001b[1;33m\u001b[0m\u001b[0m\n",
      "\u001b[1;32mD:\\prog_python_scala\\python\\lib\\site-packages\\pyspark\\rdd.py\u001b[0m in \u001b[0;36mcollect\u001b[1;34m(self)\u001b[0m\n\u001b[0;32m    814\u001b[0m         \"\"\"\n\u001b[0;32m    815\u001b[0m         \u001b[1;32mwith\u001b[0m \u001b[0mSCCallSiteSync\u001b[0m\u001b[1;33m(\u001b[0m\u001b[0mself\u001b[0m\u001b[1;33m.\u001b[0m\u001b[0mcontext\u001b[0m\u001b[1;33m)\u001b[0m \u001b[1;32mas\u001b[0m \u001b[0mcss\u001b[0m\u001b[1;33m:\u001b[0m\u001b[1;33m\u001b[0m\u001b[1;33m\u001b[0m\u001b[0m\n\u001b[1;32m--> 816\u001b[1;33m             \u001b[0msock_info\u001b[0m \u001b[1;33m=\u001b[0m \u001b[0mself\u001b[0m\u001b[1;33m.\u001b[0m\u001b[0mctx\u001b[0m\u001b[1;33m.\u001b[0m\u001b[0m_jvm\u001b[0m\u001b[1;33m.\u001b[0m\u001b[0mPythonRDD\u001b[0m\u001b[1;33m.\u001b[0m\u001b[0mcollectAndServe\u001b[0m\u001b[1;33m(\u001b[0m\u001b[0mself\u001b[0m\u001b[1;33m.\u001b[0m\u001b[0m_jrdd\u001b[0m\u001b[1;33m.\u001b[0m\u001b[0mrdd\u001b[0m\u001b[1;33m(\u001b[0m\u001b[1;33m)\u001b[0m\u001b[1;33m)\u001b[0m\u001b[1;33m\u001b[0m\u001b[1;33m\u001b[0m\u001b[0m\n\u001b[0m\u001b[0;32m    817\u001b[0m         \u001b[1;32mreturn\u001b[0m \u001b[0mlist\u001b[0m\u001b[1;33m(\u001b[0m\u001b[0m_load_from_socket\u001b[0m\u001b[1;33m(\u001b[0m\u001b[0msock_info\u001b[0m\u001b[1;33m,\u001b[0m \u001b[0mself\u001b[0m\u001b[1;33m.\u001b[0m\u001b[0m_jrdd_deserializer\u001b[0m\u001b[1;33m)\u001b[0m\u001b[1;33m)\u001b[0m\u001b[1;33m\u001b[0m\u001b[1;33m\u001b[0m\u001b[0m\n\u001b[0;32m    818\u001b[0m \u001b[1;33m\u001b[0m\u001b[0m\n",
      "\u001b[1;32mD:\\prog_python_scala\\python\\lib\\site-packages\\py4j\\java_gateway.py\u001b[0m in \u001b[0;36m__call__\u001b[1;34m(self, *args)\u001b[0m\n\u001b[0;32m   1253\u001b[0m             \u001b[0mproto\u001b[0m\u001b[1;33m.\u001b[0m\u001b[0mEND_COMMAND_PART\u001b[0m\u001b[1;33m\u001b[0m\u001b[1;33m\u001b[0m\u001b[0m\n\u001b[0;32m   1254\u001b[0m \u001b[1;33m\u001b[0m\u001b[0m\n\u001b[1;32m-> 1255\u001b[1;33m         \u001b[0manswer\u001b[0m \u001b[1;33m=\u001b[0m \u001b[0mself\u001b[0m\u001b[1;33m.\u001b[0m\u001b[0mgateway_client\u001b[0m\u001b[1;33m.\u001b[0m\u001b[0msend_command\u001b[0m\u001b[1;33m(\u001b[0m\u001b[0mcommand\u001b[0m\u001b[1;33m)\u001b[0m\u001b[1;33m\u001b[0m\u001b[1;33m\u001b[0m\u001b[0m\n\u001b[0m\u001b[0;32m   1256\u001b[0m         return_value = get_return_value(\n\u001b[0;32m   1257\u001b[0m             answer, self.gateway_client, self.target_id, self.name)\n",
      "\u001b[1;32mD:\\prog_python_scala\\python\\lib\\site-packages\\py4j\\java_gateway.py\u001b[0m in \u001b[0;36msend_command\u001b[1;34m(self, command, retry, binary)\u001b[0m\n\u001b[0;32m    983\u001b[0m         \u001b[0mconnection\u001b[0m \u001b[1;33m=\u001b[0m \u001b[0mself\u001b[0m\u001b[1;33m.\u001b[0m\u001b[0m_get_connection\u001b[0m\u001b[1;33m(\u001b[0m\u001b[1;33m)\u001b[0m\u001b[1;33m\u001b[0m\u001b[1;33m\u001b[0m\u001b[0m\n\u001b[0;32m    984\u001b[0m         \u001b[1;32mtry\u001b[0m\u001b[1;33m:\u001b[0m\u001b[1;33m\u001b[0m\u001b[1;33m\u001b[0m\u001b[0m\n\u001b[1;32m--> 985\u001b[1;33m             \u001b[0mresponse\u001b[0m \u001b[1;33m=\u001b[0m \u001b[0mconnection\u001b[0m\u001b[1;33m.\u001b[0m\u001b[0msend_command\u001b[0m\u001b[1;33m(\u001b[0m\u001b[0mcommand\u001b[0m\u001b[1;33m)\u001b[0m\u001b[1;33m\u001b[0m\u001b[1;33m\u001b[0m\u001b[0m\n\u001b[0m\u001b[0;32m    986\u001b[0m             \u001b[1;32mif\u001b[0m \u001b[0mbinary\u001b[0m\u001b[1;33m:\u001b[0m\u001b[1;33m\u001b[0m\u001b[1;33m\u001b[0m\u001b[0m\n\u001b[0;32m    987\u001b[0m                 \u001b[1;32mreturn\u001b[0m \u001b[0mresponse\u001b[0m\u001b[1;33m,\u001b[0m \u001b[0mself\u001b[0m\u001b[1;33m.\u001b[0m\u001b[0m_create_connection_guard\u001b[0m\u001b[1;33m(\u001b[0m\u001b[0mconnection\u001b[0m\u001b[1;33m)\u001b[0m\u001b[1;33m\u001b[0m\u001b[1;33m\u001b[0m\u001b[0m\n",
      "\u001b[1;32mD:\\prog_python_scala\\python\\lib\\site-packages\\py4j\\java_gateway.py\u001b[0m in \u001b[0;36msend_command\u001b[1;34m(self, command)\u001b[0m\n\u001b[0;32m   1150\u001b[0m \u001b[1;33m\u001b[0m\u001b[0m\n\u001b[0;32m   1151\u001b[0m         \u001b[1;32mtry\u001b[0m\u001b[1;33m:\u001b[0m\u001b[1;33m\u001b[0m\u001b[1;33m\u001b[0m\u001b[0m\n\u001b[1;32m-> 1152\u001b[1;33m             \u001b[0manswer\u001b[0m \u001b[1;33m=\u001b[0m \u001b[0msmart_decode\u001b[0m\u001b[1;33m(\u001b[0m\u001b[0mself\u001b[0m\u001b[1;33m.\u001b[0m\u001b[0mstream\u001b[0m\u001b[1;33m.\u001b[0m\u001b[0mreadline\u001b[0m\u001b[1;33m(\u001b[0m\u001b[1;33m)\u001b[0m\u001b[1;33m[\u001b[0m\u001b[1;33m:\u001b[0m\u001b[1;33m-\u001b[0m\u001b[1;36m1\u001b[0m\u001b[1;33m]\u001b[0m\u001b[1;33m)\u001b[0m\u001b[1;33m\u001b[0m\u001b[1;33m\u001b[0m\u001b[0m\n\u001b[0m\u001b[0;32m   1153\u001b[0m             \u001b[0mlogger\u001b[0m\u001b[1;33m.\u001b[0m\u001b[0mdebug\u001b[0m\u001b[1;33m(\u001b[0m\u001b[1;34m\"Answer received: {0}\"\u001b[0m\u001b[1;33m.\u001b[0m\u001b[0mformat\u001b[0m\u001b[1;33m(\u001b[0m\u001b[0manswer\u001b[0m\u001b[1;33m)\u001b[0m\u001b[1;33m)\u001b[0m\u001b[1;33m\u001b[0m\u001b[1;33m\u001b[0m\u001b[0m\n\u001b[0;32m   1154\u001b[0m             \u001b[1;32mif\u001b[0m \u001b[0manswer\u001b[0m\u001b[1;33m.\u001b[0m\u001b[0mstartswith\u001b[0m\u001b[1;33m(\u001b[0m\u001b[0mproto\u001b[0m\u001b[1;33m.\u001b[0m\u001b[0mRETURN_MESSAGE\u001b[0m\u001b[1;33m)\u001b[0m\u001b[1;33m:\u001b[0m\u001b[1;33m\u001b[0m\u001b[1;33m\u001b[0m\u001b[0m\n",
      "\u001b[1;32mD:\\prog_python_scala\\python\\lib\\socket.py\u001b[0m in \u001b[0;36mreadinto\u001b[1;34m(self, b)\u001b[0m\n\u001b[0;32m    584\u001b[0m         \u001b[1;32mwhile\u001b[0m \u001b[1;32mTrue\u001b[0m\u001b[1;33m:\u001b[0m\u001b[1;33m\u001b[0m\u001b[1;33m\u001b[0m\u001b[0m\n\u001b[0;32m    585\u001b[0m             \u001b[1;32mtry\u001b[0m\u001b[1;33m:\u001b[0m\u001b[1;33m\u001b[0m\u001b[1;33m\u001b[0m\u001b[0m\n\u001b[1;32m--> 586\u001b[1;33m                 \u001b[1;32mreturn\u001b[0m \u001b[0mself\u001b[0m\u001b[1;33m.\u001b[0m\u001b[0m_sock\u001b[0m\u001b[1;33m.\u001b[0m\u001b[0mrecv_into\u001b[0m\u001b[1;33m(\u001b[0m\u001b[0mb\u001b[0m\u001b[1;33m)\u001b[0m\u001b[1;33m\u001b[0m\u001b[1;33m\u001b[0m\u001b[0m\n\u001b[0m\u001b[0;32m    587\u001b[0m             \u001b[1;32mexcept\u001b[0m \u001b[0mtimeout\u001b[0m\u001b[1;33m:\u001b[0m\u001b[1;33m\u001b[0m\u001b[1;33m\u001b[0m\u001b[0m\n\u001b[0;32m    588\u001b[0m                 \u001b[0mself\u001b[0m\u001b[1;33m.\u001b[0m\u001b[0m_timeout_occurred\u001b[0m \u001b[1;33m=\u001b[0m \u001b[1;32mTrue\u001b[0m\u001b[1;33m\u001b[0m\u001b[1;33m\u001b[0m\u001b[0m\n",
      "\u001b[1;31mKeyboardInterrupt\u001b[0m: "
     ]
    }
   ],
   "source": [
    "total_time = 0\n",
    "for i in range(n_iterations):\n",
    "    \n",
    "    print('we are at the iteration : {}'.format(i))\n",
    "    \n",
    "    # computing the gradient\n",
    "    start = time.time()\n",
    "    x_batch, y_batch = batch_iter(data_train,labels_train,batch_size= batch_size)\n",
    "    \n",
    "    sgd = sc.parallelize(zip(x_batch,y_batch),numSlices= n_workers) \\\n",
    "    .mapPartitions(lambda it: train(it,w)) \\\n",
    "    .reduce(lambda x,y:{k: x.get(k, 0) + y.get(k, 0) for k in set(x) | set(y)})\n",
    "    \n",
    "    for k,v in sgd.items():\n",
    "        w[k] = w.get(k, 0) - v\n",
    "        \n",
    "    end = time.time()\n",
    "    print(end - start)\n",
    "    total_time += end - start\n",
    "    \n",
    "    print(\"compute loss\")\n",
    "    loss = sc.parallelize(zip(x_batch,y_batch),numSlices= n_workers) \\\n",
    "    .mapPartitions(lambda it: compute_loss(it,w,lambda_,batch_size)) \\\n",
    "    .reduce(lambda x,y: x+y)\n",
    "    print('the model as a loss of:')\n",
    "    print(loss)\n",
    "    \n",
    "    print(\"compute train accuracy\")\n",
    "    acc = sc.parallelize(zip(x_batch,y_batch), numSlices= n_workers) \\\n",
    "    .mapPartitions(lambda it: prediction(it,w)) \\\n",
    "    .mapPartitions(lambda it: accuracy(it)) \\\n",
    "    .reduce(lambda x,y: x+y)\n",
    "    acc = acc/len(y_batch)\n",
    "    print('the model as achieved an accuracy of:')\n",
    "    print(acc)\n",
    "    \n",
    "    print('computing test accuracy')\n",
    "    # computing the accuracy\n",
    "    test_x_batch, test_y_batch = batch_iter(data_test,labels_test,batch_size= batch_size)\n",
    "    acc = sc.parallelize(zip(test_x_batch,test_y_batch), numSlices= n_workers) \\\n",
    "    .mapPartitions(lambda it: prediction(it,w)) \\\n",
    "    .mapPartitions(lambda it: accuracy(it)) \\\n",
    "    .reduce(lambda x,y: x+y)\n",
    "    acc = acc/len(test_y_batch)\n",
    "    print('the model as achieved an accuracy of:')\n",
    "    print(acc)"
   ]
  },
  {
   "cell_type": "code",
   "execution_count": null,
   "metadata": {},
   "outputs": [],
   "source": []
  }
 ],
 "metadata": {
  "kernelspec": {
   "display_name": "Python 3",
   "language": "python",
   "name": "python3"
  },
  "language_info": {
   "codemirror_mode": {
    "name": "ipython",
    "version": 3
   },
   "file_extension": ".py",
   "mimetype": "text/x-python",
   "name": "python",
   "nbconvert_exporter": "python",
   "pygments_lexer": "ipython3",
   "version": "3.6.8"
  }
 },
 "nbformat": 4,
 "nbformat_minor": 2
}
